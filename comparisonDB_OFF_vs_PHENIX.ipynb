{
 "cells": [
  {
   "cell_type": "code",
   "execution_count": 1,
   "metadata": {},
   "outputs": [],
   "source": [
    "import dask\n",
    "import dask.dataframe as dd\n",
    "import pandas as pd"
   ]
  },
  {
   "cell_type": "markdown",
   "metadata": {},
   "source": [
    "## Exploring OpenFoodFacts CSV\n",
    "Source : https://fr.openfoodfacts.org/data/fr.openfoodfacts.org.products.csv"
   ]
  },
  {
   "cell_type": "code",
   "execution_count": 2,
   "metadata": {},
   "outputs": [
    {
     "data": {
      "text/html": [
       "<div>\n",
       "<table border=\"1\" class=\"dataframe\">\n",
       "  <thead>\n",
       "    <tr style=\"text-align: right;\">\n",
       "      <th></th>\n",
       "      <th>code</th>\n",
       "      <th>product_name</th>\n",
       "      <th>categories_tags</th>\n",
       "      <th>main_category</th>\n",
       "    </tr>\n",
       "  </thead>\n",
       "  <tbody>\n",
       "    <tr>\n",
       "      <th>0</th>\n",
       "      <td>0000000000017</td>\n",
       "      <td>Vitória crackers</td>\n",
       "      <td>NaN</td>\n",
       "      <td>NaN</td>\n",
       "    </tr>\n",
       "    <tr>\n",
       "      <th>1</th>\n",
       "      <td>0000000000031</td>\n",
       "      <td>Cacao</td>\n",
       "      <td>NaN</td>\n",
       "      <td>NaN</td>\n",
       "    </tr>\n",
       "    <tr>\n",
       "      <th>2</th>\n",
       "      <td>0000000000123</td>\n",
       "      <td>Sauce Sweety chili 0%</td>\n",
       "      <td>NaN</td>\n",
       "      <td>NaN</td>\n",
       "    </tr>\n",
       "    <tr>\n",
       "      <th>3</th>\n",
       "      <td>0000000000291</td>\n",
       "      <td>Mendiants</td>\n",
       "      <td>NaN</td>\n",
       "      <td>NaN</td>\n",
       "    </tr>\n",
       "    <tr>\n",
       "      <th>4</th>\n",
       "      <td>0000000000949</td>\n",
       "      <td>Salade de carottes râpées</td>\n",
       "      <td>NaN</td>\n",
       "      <td>NaN</td>\n",
       "    </tr>\n",
       "  </tbody>\n",
       "</table>\n",
       "</div>"
      ],
      "text/plain": [
       "            code               product_name categories_tags main_category\n",
       "0  0000000000017           Vitória crackers             NaN           NaN\n",
       "1  0000000000031                      Cacao             NaN           NaN\n",
       "2  0000000000123      Sauce Sweety chili 0%             NaN           NaN\n",
       "3  0000000000291                  Mendiants             NaN           NaN\n",
       "4  0000000000949  Salade de carottes râpées             NaN           NaN"
      ]
     },
     "execution_count": 2,
     "metadata": {},
     "output_type": "execute_result"
    }
   ],
   "source": [
    "ddf_OFF = dd.read_csv(\"fr.openfoodfacts.org.products.csv\", sep=\"\\t\", encoding=\"utf-8\", low_memory=False,\n",
    "                  #usecols=[\"code\", \"url\", \"quantity\", \"product_name\", \"categories_tags\", \"countries_tags\", \"ingredients_text\", \"states_tags\", \"main_category\"],\n",
    "                  usecols=[\"code\", \"product_name\", \"categories_tags\", \"main_category\"],\n",
    "                  dtype={'allergens': 'object',\n",
    "       'cities_tags': 'object',\n",
    "       'emb_codes': 'object',\n",
    "       'emb_codes_tags': 'object',\n",
    "       'first_packaging_code_geo': 'object',\n",
    "       'generic_name': 'object',\n",
    "       'ingredients_from_palm_oil_tags': 'object',\n",
    "       'labels': 'object',\n",
    "       'labels_fr': 'object',\n",
    "       'labels_tags': 'object',\n",
    "       'manufacturing_places': 'object',\n",
    "       'manufacturing_places_tags': 'object',\n",
    "       'origins': 'object',\n",
    "       'origins_tags': 'object',\n",
    "       'stores': 'object',\n",
    "       'code': 'object','allergens_fr': 'object',\n",
    "       'cities': 'object',\n",
    "       'created_t': 'object',\n",
    "       'last_modified_t': 'object',\n",
    "       'serving_quantity':'object'})\n",
    "ddf_OFF.head()"
   ]
  },
  {
   "cell_type": "markdown",
   "metadata": {},
   "source": [
    "## Exploring Phenix SQL database"
   ]
  },
  {
   "cell_type": "markdown",
   "metadata": {},
   "source": [
    "Connection via SQL Express en local"
   ]
  },
  {
   "cell_type": "code",
   "execution_count": 3,
   "metadata": {},
   "outputs": [],
   "source": [
    "import pyodbc\n",
    "con = pyodbc.connect(Trusted_Connection='yes', driver = '{SQL Server}',server = 'localhost\\SQLEXPRESS' , database = 'PHX_D4G')"
   ]
  },
  {
   "cell_type": "markdown",
   "metadata": {},
   "source": [
    "Envoie de la query SQL --> Dataframe\n",
    "\n",
    "`where CategorieProduits.Id<=5;` --> filtre les aliments seulement"
   ]
  },
  {
   "cell_type": "code",
   "execution_count": 4,
   "metadata": {},
   "outputs": [
    {
     "data": {
      "text/html": [
       "<div>\n",
       "<table border=\"1\" class=\"dataframe\">\n",
       "  <thead>\n",
       "    <tr style=\"text-align: right;\">\n",
       "      <th></th>\n",
       "      <th>Ean</th>\n",
       "      <th>Nom</th>\n",
       "      <th>Nom</th>\n",
       "    </tr>\n",
       "  </thead>\n",
       "  <tbody>\n",
       "    <tr>\n",
       "      <th>0</th>\n",
       "      <td>3266742120681</td>\n",
       "      <td>CHINOIS ROND CHOCOLAT</td>\n",
       "      <td>Fruits, légumes, boulangerie</td>\n",
       "    </tr>\n",
       "    <tr>\n",
       "      <th>1</th>\n",
       "      <td>3266742120711</td>\n",
       "      <td>TRESSE PEPITES CHOCOLAT</td>\n",
       "      <td>Fruits, légumes, boulangerie</td>\n",
       "    </tr>\n",
       "    <tr>\n",
       "      <th>2</th>\n",
       "      <td>3266742120780</td>\n",
       "      <td>TRESSE NATURE</td>\n",
       "      <td>Fruits, légumes, boulangerie</td>\n",
       "    </tr>\n",
       "    <tr>\n",
       "      <th>3</th>\n",
       "      <td>3266742120995</td>\n",
       "      <td>TRESSE PRALINE 500G</td>\n",
       "      <td>Fruits, légumes, boulangerie</td>\n",
       "    </tr>\n",
       "    <tr>\n",
       "      <th>4</th>\n",
       "      <td>3266742120858</td>\n",
       "      <td>VIENNOIS.PEPITES CHOCO X4</td>\n",
       "      <td>Fruits, légumes, boulangerie</td>\n",
       "    </tr>\n",
       "  </tbody>\n",
       "</table>\n",
       "</div>"
      ],
      "text/plain": [
       "             Ean                        Nom                           Nom\n",
       "0  3266742120681      CHINOIS ROND CHOCOLAT  Fruits, légumes, boulangerie\n",
       "1  3266742120711    TRESSE PEPITES CHOCOLAT  Fruits, légumes, boulangerie\n",
       "2  3266742120780              TRESSE NATURE  Fruits, légumes, boulangerie\n",
       "3  3266742120995        TRESSE PRALINE 500G  Fruits, légumes, boulangerie\n",
       "4  3266742120858  VIENNOIS.PEPITES CHOCO X4  Fruits, légumes, boulangerie"
      ]
     },
     "execution_count": 4,
     "metadata": {},
     "output_type": "execute_result"
    }
   ],
   "source": [
    "sql = \"\"\"select Produits.Ean,Produits.Nom,CategorieProduits.Nom \\n\n",
    "    from Produits \\n\n",
    "    inner join CategorieProduits on Produits.Categorie_CategorieProduit_Id=CategorieProduits.Id \\n\n",
    "    where CategorieProduits.Id<=5;\"\"\"\n",
    "df_Phenix = pd.read_sql(sql,con)\n",
    "df_Phenix.head()"
   ]
  },
  {
   "cell_type": "markdown",
   "metadata": {},
   "source": [
    "Préparation pour le merge avec la DB OpenFoodFacts \n",
    "* Changement du nom de colonne EAN\n",
    "* Suppression des duplicats dans les produits PHENIX"
   ]
  },
  {
   "cell_type": "code",
   "execution_count": 5,
   "metadata": {},
   "outputs": [
    {
     "name": "stdout",
     "output_type": "stream",
     "text": [
      "573013 produits dans la DB Phénix\n",
      "322191 produits uniques\n"
     ]
    }
   ],
   "source": [
    "df_Phenix = df_Phenix.rename(columns = {'Ean':'code'})\n",
    "\n",
    "phenix_nb_products = df_Phenix.shape[0]\n",
    "df_Phenix.columns = ['code','Nom','categorie']\n",
    "df_Phenix_unique = df_Phenix.drop_duplicates()\n",
    "phenix_nb_products_unique = df_Phenix_unique.shape[0]\n",
    "\n",
    "print(str(phenix_nb_products) + ' produits dans la DB Phénix')\n",
    "print(str(phenix_nb_products_unique) + ' produits uniques')"
   ]
  },
  {
   "cell_type": "markdown",
   "metadata": {},
   "source": [
    "Merge de DB produits uniques de Phenix et DB OpenFoodFacts\n",
    "* Merge des DB\n",
    "* Renommer les colonnes pour la présentation\n",
    "* Extraction en CSV, si nécessaire `df_OFF_et_Phenix.to_csv('comparisonDB_OFF_vs_PHENIX.csv')`"
   ]
  },
  {
   "cell_type": "code",
   "execution_count": 6,
   "metadata": {},
   "outputs": [],
   "source": [
    "df_OFF_et_Phenix = pd.merge(ddf_OFF.compute(), df_Phenix_unique, on=['code'], how='right')\n",
    "df_OFF_et_Phenix.columns = ['EAN','OFF_product_name','OFF_categories_tags','OFF_main_category','PHENIX_Nom','PHENIX_categorie']\n",
    "#df_OFF_et_Phenix.to_csv('comparisonDB_OFF_vs_PHENIX.csv')"
   ]
  },
  {
   "cell_type": "markdown",
   "metadata": {},
   "source": [
    "## Analyse des données de Catégorie"
   ]
  },
  {
   "cell_type": "code",
   "execution_count": 7,
   "metadata": {},
   "outputs": [
    {
     "data": {
      "text/html": [
       "<div>\n",
       "<table border=\"1\" class=\"dataframe\">\n",
       "  <thead>\n",
       "    <tr style=\"text-align: right;\">\n",
       "      <th></th>\n",
       "      <th>EAN</th>\n",
       "      <th>OFF_product_name</th>\n",
       "      <th>OFF_categories_tags</th>\n",
       "      <th>OFF_main_category</th>\n",
       "      <th>PHENIX_Nom</th>\n",
       "      <th>PHENIX_categorie</th>\n",
       "    </tr>\n",
       "  </thead>\n",
       "  <tbody>\n",
       "    <tr>\n",
       "      <th>0</th>\n",
       "      <td>0000000000031</td>\n",
       "      <td>Cacao</td>\n",
       "      <td>NaN</td>\n",
       "      <td>NaN</td>\n",
       "      <td>ESCALOPE DE DINDE</td>\n",
       "      <td>Boucherie, volailles, poissonnerie, charcuterie</td>\n",
       "    </tr>\n",
       "    <tr>\n",
       "      <th>1</th>\n",
       "      <td>0000000000123</td>\n",
       "      <td>Sauce Sweety chili 0%</td>\n",
       "      <td>NaN</td>\n",
       "      <td>NaN</td>\n",
       "      <td>CONSERVES DE POISSONS</td>\n",
       "      <td>Epicerie salée, sucrée et boissons</td>\n",
       "    </tr>\n",
       "    <tr>\n",
       "      <th>2</th>\n",
       "      <td>0000000000123</td>\n",
       "      <td>Sauce Sweety chili 0%</td>\n",
       "      <td>NaN</td>\n",
       "      <td>NaN</td>\n",
       "      <td>PMK FRUITS CASSE</td>\n",
       "      <td>Fruits, légumes, boulangerie</td>\n",
       "    </tr>\n",
       "    <tr>\n",
       "      <th>3</th>\n",
       "      <td>0000000000123</td>\n",
       "      <td>Sauce Sweety chili 0%</td>\n",
       "      <td>NaN</td>\n",
       "      <td>NaN</td>\n",
       "      <td>ARTICHAUT CALICO CAL 15</td>\n",
       "      <td>Epicerie salée, sucrée et boissons</td>\n",
       "    </tr>\n",
       "    <tr>\n",
       "      <th>4</th>\n",
       "      <td>0000000001137</td>\n",
       "      <td>Baguette parisien</td>\n",
       "      <td>NaN</td>\n",
       "      <td>NaN</td>\n",
       "      <td>MELON VERT</td>\n",
       "      <td>Fruits, légumes, boulangerie</td>\n",
       "    </tr>\n",
       "  </tbody>\n",
       "</table>\n",
       "</div>"
      ],
      "text/plain": [
       "             EAN       OFF_product_name OFF_categories_tags OFF_main_category  \\\n",
       "0  0000000000031                  Cacao                 NaN               NaN   \n",
       "1  0000000000123  Sauce Sweety chili 0%                 NaN               NaN   \n",
       "2  0000000000123  Sauce Sweety chili 0%                 NaN               NaN   \n",
       "3  0000000000123  Sauce Sweety chili 0%                 NaN               NaN   \n",
       "4  0000000001137      Baguette parisien                 NaN               NaN   \n",
       "\n",
       "                PHENIX_Nom                                 PHENIX_categorie  \n",
       "0        ESCALOPE DE DINDE  Boucherie, volailles, poissonnerie, charcuterie  \n",
       "1    CONSERVES DE POISSONS               Epicerie salée, sucrée et boissons  \n",
       "2         PMK FRUITS CASSE                     Fruits, légumes, boulangerie  \n",
       "3  ARTICHAUT CALICO CAL 15               Epicerie salée, sucrée et boissons  \n",
       "4               MELON VERT                     Fruits, légumes, boulangerie  "
      ]
     },
     "execution_count": 7,
     "metadata": {},
     "output_type": "execute_result"
    }
   ],
   "source": [
    "df_OFF_et_Phenix.head()"
   ]
  },
  {
   "cell_type": "code",
   "execution_count": 8,
   "metadata": {},
   "outputs": [],
   "source": [
    "%matplotlib inline \n",
    "import matplotlib.pyplot as plt"
   ]
  },
  {
   "cell_type": "code",
   "execution_count": 9,
   "metadata": {
    "scrolled": true
   },
   "outputs": [
    {
     "data": {
      "image/png": "[encoded data removed]",
      "text/plain": [
       "<Figure size 432x288 with 1 Axes>"
      ]
     },
     "metadata": {
      "needs_background": "light"
     },
     "output_type": "display_data"
    }
   ],
   "source": [
    "df_countNA = df_OFF_et_Phenix.isnull().sum()\n",
    "total_elements = df_OFF_et_Phenix.shape[0]\n",
    "titre = \"Nombre d'élements NaN en bleu (total = \" + str(total_elements) + \")\"\n",
    "\n",
    "fig = plt.figure()\n",
    "ax = fig.add_subplot(111)\n",
    "df_countNA.plot.barh(xlim =[0,total_elements], title=titre)\n",
    "\n",
    "a = 0\n",
    "for i,j in df_countNA.items():\n",
    "    s = str(j) + ' ('+ str(int(j/total_elements*100)) + ' %)'\n",
    "    ax.annotate(s, xy=(j+10000, a))\n",
    "    a = a +1"
   ]
  },
  {
   "cell_type": "markdown",
   "metadata": {},
   "source": [
    "### Résultats de l'analyse\n",
    "* __322 225 produits alimentaires uniques__ dans Phénix\n",
    "* __41%__ des produits dans Phénix ne sont pas dans la DB de OpenFoodFacts.\n",
    "* __34__ produits Phénix n'ont pas de code EAN\n",
    "* __Attention__ il y a également des produits Phénix qui sont mal référencés par le code EAN\n",
    "* __60%__ des produits dans Phénix n'ont pas de catégorie DB.\n",
    "\n",
    "Il faudra imaginer une solution pour:\n",
    "* trier les produits Phénix qui sont mal référencés\n",
    "* catégoriser les produits par groupe alimentaire (dictionaire de mots clés? Machine Learning?)\n",
    "* associer une qualité nutritive (aide de nutritioniste?)\n",
    "* valider la quantité des dons reçus"
   ]
  },
  {
   "cell_type": "code",
   "execution_count": 10,
   "metadata": {},
   "outputs": [],
   "source": [
    "h = df_OFF_et_Phenix.OFF_main_category.value_counts()\n",
    "#h.to_csv('OFF_Categories_to_FoodGroups.csv')"
   ]
  }
 ],
 "metadata": {
  "kernelspec": {
   "display_name": "Python 3",
   "language": "python",
   "name": "python3"
  },
  "language_info": {
   "codemirror_mode": {
    "name": "ipython",
    "version": 3
   },
   "file_extension": ".py",
   "mimetype": "text/x-python",
   "name": "python",
   "nbconvert_exporter": "python",
   "pygments_lexer": "ipython3",
   "version": "3.5.2"
  }
 },
 "nbformat": 4,
 "nbformat_minor": 2
}
