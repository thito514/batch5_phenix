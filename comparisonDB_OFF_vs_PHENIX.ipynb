{
 "cells": [
  {
   "cell_type": "code",
   "execution_count": 1,
   "metadata": {},
   "outputs": [],
   "source": [
    "import dask\n",
    "import dask.dataframe as dd\n",
    "import pandas as pd"
   ]
  },
  {
   "cell_type": "markdown",
   "metadata": {},
   "source": [
    "## Exploring OpenFoodFacts CSV\n",
    "Source : https://fr.openfoodfacts.org/data/fr.openfoodfacts.org.products.csv"
   ]
  },
  {
   "cell_type": "code",
   "execution_count": 2,
   "metadata": {},
   "outputs": [
    {
     "data": {
      "text/html": [
       "<div>\n",
       "<table border=\"1\" class=\"dataframe\">\n",
       "  <thead>\n",
       "    <tr style=\"text-align: right;\">\n",
       "      <th></th>\n",
       "      <th>code</th>\n",
       "      <th>product_name</th>\n",
       "      <th>categories_tags</th>\n",
       "      <th>main_category</th>\n",
       "    </tr>\n",
       "  </thead>\n",
       "  <tbody>\n",
       "    <tr>\n",
       "      <th>0</th>\n",
       "      <td>0000000000017</td>\n",
       "      <td>Vitória crackers</td>\n",
       "      <td>NaN</td>\n",
       "      <td>NaN</td>\n",
       "    </tr>\n",
       "    <tr>\n",
       "      <th>1</th>\n",
       "      <td>0000000000031</td>\n",
       "      <td>Cacao</td>\n",
       "      <td>NaN</td>\n",
       "      <td>NaN</td>\n",
       "    </tr>\n",
       "    <tr>\n",
       "      <th>2</th>\n",
       "      <td>0000000000123</td>\n",
       "      <td>Sauce Sweety chili 0%</td>\n",
       "      <td>NaN</td>\n",
       "      <td>NaN</td>\n",
       "    </tr>\n",
       "    <tr>\n",
       "      <th>3</th>\n",
       "      <td>0000000000291</td>\n",
       "      <td>Mendiants</td>\n",
       "      <td>NaN</td>\n",
       "      <td>NaN</td>\n",
       "    </tr>\n",
       "    <tr>\n",
       "      <th>4</th>\n",
       "      <td>0000000000949</td>\n",
       "      <td>Salade de carottes râpées</td>\n",
       "      <td>NaN</td>\n",
       "      <td>NaN</td>\n",
       "    </tr>\n",
       "  </tbody>\n",
       "</table>\n",
       "</div>"
      ],
      "text/plain": [
       "            code               product_name categories_tags main_category\n",
       "0  0000000000017           Vitória crackers             NaN           NaN\n",
       "1  0000000000031                      Cacao             NaN           NaN\n",
       "2  0000000000123      Sauce Sweety chili 0%             NaN           NaN\n",
       "3  0000000000291                  Mendiants             NaN           NaN\n",
       "4  0000000000949  Salade de carottes râpées             NaN           NaN"
      ]
     },
     "execution_count": 2,
     "metadata": {},
     "output_type": "execute_result"
    }
   ],
   "source": [
    "ddf_OFF = dd.read_csv(\"fr.openfoodfacts.org.products.csv\", sep=\"\\t\", encoding=\"utf-8\", low_memory=False,\n",
    "                  #usecols=[\"code\", \"url\", \"quantity\", \"product_name\", \"categories_tags\", \"countries_tags\", \"ingredients_text\", \"states_tags\", \"main_category\"],\n",
    "                  usecols=[\"code\", \"product_name\", \"categories_tags\", \"main_category\"],\n",
    "                  dtype={'allergens': 'object',\n",
    "       'cities_tags': 'object',\n",
    "       'emb_codes': 'object',\n",
    "       'emb_codes_tags': 'object',\n",
    "       'first_packaging_code_geo': 'object',\n",
    "       'generic_name': 'object',\n",
    "       'ingredients_from_palm_oil_tags': 'object',\n",
    "       'labels': 'object',\n",
    "       'labels_fr': 'object',\n",
    "       'labels_tags': 'object',\n",
    "       'manufacturing_places': 'object',\n",
    "       'manufacturing_places_tags': 'object',\n",
    "       'origins': 'object',\n",
    "       'origins_tags': 'object',\n",
    "       'stores': 'object',\n",
    "       'code': 'object','allergens_fr': 'object',\n",
    "       'cities': 'object',\n",
    "       'created_t': 'object',\n",
    "       'last_modified_t': 'object'})\n",
    "ddf_OFF.head()"
   ]
  },
  {
   "cell_type": "markdown",
   "metadata": {},
   "source": [
    "## Exploring Phenix SQL database"
   ]
  },
  {
   "cell_type": "markdown",
   "metadata": {},
   "source": [
    "Connection via SQL Express en local"
   ]
  },
  {
   "cell_type": "code",
   "execution_count": 3,
   "metadata": {},
   "outputs": [],
   "source": [
    "import pyodbc\n",
    "con = pyodbc.connect(Trusted_Connection='yes', driver = '{SQL Server}',server = 'localhost\\SQLEXPRESS' , database = 'PHX_D4G')"
   ]
  },
  {
   "cell_type": "markdown",
   "metadata": {},
   "source": [
    "Envoie de la query SQL --> Dataframe"
   ]
  },
  {
   "cell_type": "code",
   "execution_count": 4,
   "metadata": {},
   "outputs": [],
   "source": [
    "sql = \"\"\"select Produits.Ean,Produits.Nom,CategorieProduits.Nom \\n\n",
    "    from Produits \\n\n",
    "    inner join CategorieProduits on Produits.Categorie_CategorieProduit_Id=CategorieProduits.Id \\n\n",
    "    where CategorieProduits.Id<=5;\"\"\"\n",
    "df_Phenix = pd.read_sql(sql,con)\n"
   ]
  },
  {
   "cell_type": "markdown",
   "metadata": {},
   "source": [
    "Préparation pour le merge avec la DB OpenFoodFacts \n",
    "* Changement du nom de colonne EAN\n",
    "* Suppression des duplicats dans les produits PHENIX"
   ]
  },
  {
   "cell_type": "code",
   "execution_count": 5,
   "metadata": {},
   "outputs": [
    {
     "name": "stdout",
     "output_type": "stream",
     "text": [
      "(573013, 3)\n",
      "(322191, 3)\n"
     ]
    }
   ],
   "source": [
    "df_Phenix = df_Phenix.rename(columns = {'Ean':'code'})\n",
    "\n",
    "print(df_Phenix.shape)\n",
    "df_Phenix.columns = ['code','Nom','categorie']\n",
    "df_Phenix = df_Phenix.drop_duplicates()\n",
    "print(df_Phenix.shape)"
   ]
  },
  {
   "cell_type": "markdown",
   "metadata": {},
   "source": [
    "Merge de DB produits unique de Phenix et DB OpenFoodFacts\n",
    "* Merge des DB\n",
    "* Renommer les colonnes pour la présentation\n",
    "* Extraction en CSV"
   ]
  },
  {
   "cell_type": "code",
   "execution_count": 6,
   "metadata": {},
   "outputs": [],
   "source": [
    "df_OFF_et_Phenix = pd.merge(ddf_OFF.compute(), df_Phenix, on=['code'], how='right')\n",
    "df_OFF_et_Phenix.columns = ['EAN','OFF_product_name','OFF_categories_tags','OFF_main_category','PHENIX_Nom','PHENIX_categorie']\n",
    "df_OFF_et_Phenix.to_csv('comparisonDB_OFF_vs_PHENIX.csv')"
   ]
  },
  {
   "cell_type": "code",
   "execution_count": null,
   "metadata": {},
   "outputs": [],
   "source": []
  }
 ],
 "metadata": {
  "kernelspec": {
   "display_name": "Python 3",
   "language": "python",
   "name": "python3"
  },
  "language_info": {
   "codemirror_mode": {
    "name": "ipython",
    "version": 3
   },
   "file_extension": ".py",
   "mimetype": "text/x-python",
   "name": "python",
   "nbconvert_exporter": "python",
   "pygments_lexer": "ipython3",
   "version": "3.5.2"
  }
 },
 "nbformat": 4,
 "nbformat_minor": 2
}
